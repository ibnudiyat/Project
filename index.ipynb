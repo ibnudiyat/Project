{
 "cells": [
  {
   "cell_type": "markdown",
   "metadata": {},
   "source": [
    "1. Business Understanding\n",
    "\n",
    "In the age of digital streaming platforms, users are often overwhelmed by the sheer number of available movies. A well-designed movie recommendation system helps users discover movies they will enjoy without manually searching through thousands of options.The goal of this project is to develop a personalized movie recommendation system using collaborative filtering, which predicts user preferences based on their past ratings and similar users' preferences. The system is valuable to various stakeholders among them: streaming services, movie retailers , content creators and users.The movie recommendation system successfully applies data-driven insights to improve user experience and increase platform engagement. By dynamically selecting the best model, we ensure optimal performance and accurate predictions."
   ]
  },
  {
   "cell_type": "markdown",
   "metadata": {},
   "source": [
    "2. Business Problem: The goal is to predict user preferences and recommend top movies, helping businesses (e.g., streaming platforms) improve user engagement and retention."
   ]
  },
  {
   "cell_type": "markdown",
   "metadata": {},
   "source": [
    "3. Data understanding\n",
    "\n",
    "This project utilizes the MovieLens ( https://grouplens.org/datasets/movielens/latest/) dataset from the GroupLens research lab at the University of Minnesota.. It contains explicit user ratings, making it well-suited for collaborative filtering techniques.\n",
    "\n",
    "Dataset Files\n",
    "\n",
    "ratings.csv → Contains user-movie rating interactions.\n",
    "\n",
    "movies.csv → Provides movie metadata (titles, genres).\n",
    "\n",
    "\n",
    "The ratings.csv contains the following columns:\n",
    "- userId - Unique identifier for each user\n",
    "- movieId -Unique identifier for each movie\n",
    "- rating - User's rating for the movie (0.5 - 5.0)\n",
    "- timestamp- Time when the rating was given\n",
    "\n",
    "The movies.csv contains the following columns:\n",
    "- movieId -Unique identifier for each movie\n",
    "- title- Name of the movie\n",
    "- genres - Genre(s) of the movie\n",
    "\n",
    "These datasets are ideal for predicting user preferences and generating personalized recommendations."
   ]
  },
  {
   "cell_type": "markdown",
   "metadata": {},
   "source": [
    "4. Data loading and importing libraries"
   ]
  },
  {
   "cell_type": "code",
   "execution_count": 52,
   "metadata": {},
   "outputs": [],
   "source": [
    "#Load the libraries\n",
    "import pandas as pd\n",
    "import matplotlib.pyplot as plt\n",
    "from surprise import Dataset, Reader, SVD, KNNBasic, accuracy\n",
    "from surprise.model_selection import train_test_split, GridSearchCV\n",
    "from sklearn.impute import SimpleImputer\n",
    "from sklearn.pipeline import Pipeline"
   ]
  },
  {
   "cell_type": "code",
   "execution_count": 53,
   "metadata": {},
   "outputs": [],
   "source": [
    "#Load Data\n",
    "movies = pd.read_csv('movies.csv')\n",
    "ratings = pd.read_csv('ratings.csv')"
   ]
  },
  {
   "cell_type": "code",
   "execution_count": 69,
   "metadata": {},
   "outputs": [
    {
     "data": {
      "text/html": [
       "<div>\n",
       "<style scoped>\n",
       "    .dataframe tbody tr th:only-of-type {\n",
       "        vertical-align: middle;\n",
       "    }\n",
       "\n",
       "    .dataframe tbody tr th {\n",
       "        vertical-align: top;\n",
       "    }\n",
       "\n",
       "    .dataframe thead th {\n",
       "        text-align: right;\n",
       "    }\n",
       "</style>\n",
       "<table border=\"1\" class=\"dataframe\">\n",
       "  <thead>\n",
       "    <tr style=\"text-align: right;\">\n",
       "      <th></th>\n",
       "      <th>userId</th>\n",
       "      <th>movieId</th>\n",
       "      <th>rating</th>\n",
       "      <th>timestamp</th>\n",
       "    </tr>\n",
       "  </thead>\n",
       "  <tbody>\n",
       "    <tr>\n",
       "      <th>0</th>\n",
       "      <td>1.0</td>\n",
       "      <td>1.0</td>\n",
       "      <td>4.0</td>\n",
       "      <td>964982703</td>\n",
       "    </tr>\n",
       "    <tr>\n",
       "      <th>1</th>\n",
       "      <td>1.0</td>\n",
       "      <td>3.0</td>\n",
       "      <td>4.0</td>\n",
       "      <td>964981247</td>\n",
       "    </tr>\n",
       "    <tr>\n",
       "      <th>2</th>\n",
       "      <td>1.0</td>\n",
       "      <td>6.0</td>\n",
       "      <td>4.0</td>\n",
       "      <td>964982224</td>\n",
       "    </tr>\n",
       "    <tr>\n",
       "      <th>3</th>\n",
       "      <td>1.0</td>\n",
       "      <td>47.0</td>\n",
       "      <td>5.0</td>\n",
       "      <td>964983815</td>\n",
       "    </tr>\n",
       "    <tr>\n",
       "      <th>4</th>\n",
       "      <td>1.0</td>\n",
       "      <td>50.0</td>\n",
       "      <td>5.0</td>\n",
       "      <td>964982931</td>\n",
       "    </tr>\n",
       "  </tbody>\n",
       "</table>\n",
       "</div>"
      ],
      "text/plain": [
       "   userId  movieId  rating  timestamp\n",
       "0     1.0      1.0     4.0  964982703\n",
       "1     1.0      3.0     4.0  964981247\n",
       "2     1.0      6.0     4.0  964982224\n",
       "3     1.0     47.0     5.0  964983815\n",
       "4     1.0     50.0     5.0  964982931"
      ]
     },
     "execution_count": 69,
     "metadata": {},
     "output_type": "execute_result"
    }
   ],
   "source": [
    "ratings.head()"
   ]
  },
  {
   "cell_type": "code",
   "execution_count": 68,
   "metadata": {},
   "outputs": [
    {
     "data": {
      "text/html": [
       "<div>\n",
       "<style scoped>\n",
       "    .dataframe tbody tr th:only-of-type {\n",
       "        vertical-align: middle;\n",
       "    }\n",
       "\n",
       "    .dataframe tbody tr th {\n",
       "        vertical-align: top;\n",
       "    }\n",
       "\n",
       "    .dataframe thead th {\n",
       "        text-align: right;\n",
       "    }\n",
       "</style>\n",
       "<table border=\"1\" class=\"dataframe\">\n",
       "  <thead>\n",
       "    <tr style=\"text-align: right;\">\n",
       "      <th></th>\n",
       "      <th>movieId</th>\n",
       "      <th>title</th>\n",
       "      <th>genres</th>\n",
       "    </tr>\n",
       "  </thead>\n",
       "  <tbody>\n",
       "    <tr>\n",
       "      <th>0</th>\n",
       "      <td>1</td>\n",
       "      <td>Toy Story (1995)</td>\n",
       "      <td>Adventure|Animation|Children|Comedy|Fantasy</td>\n",
       "    </tr>\n",
       "    <tr>\n",
       "      <th>1</th>\n",
       "      <td>2</td>\n",
       "      <td>Jumanji (1995)</td>\n",
       "      <td>Adventure|Children|Fantasy</td>\n",
       "    </tr>\n",
       "    <tr>\n",
       "      <th>2</th>\n",
       "      <td>3</td>\n",
       "      <td>Grumpier Old Men (1995)</td>\n",
       "      <td>Comedy|Romance</td>\n",
       "    </tr>\n",
       "    <tr>\n",
       "      <th>3</th>\n",
       "      <td>4</td>\n",
       "      <td>Waiting to Exhale (1995)</td>\n",
       "      <td>Comedy|Drama|Romance</td>\n",
       "    </tr>\n",
       "    <tr>\n",
       "      <th>4</th>\n",
       "      <td>5</td>\n",
       "      <td>Father of the Bride Part II (1995)</td>\n",
       "      <td>Comedy</td>\n",
       "    </tr>\n",
       "  </tbody>\n",
       "</table>\n",
       "</div>"
      ],
      "text/plain": [
       "   movieId                               title  \\\n",
       "0        1                    Toy Story (1995)   \n",
       "1        2                      Jumanji (1995)   \n",
       "2        3             Grumpier Old Men (1995)   \n",
       "3        4            Waiting to Exhale (1995)   \n",
       "4        5  Father of the Bride Part II (1995)   \n",
       "\n",
       "                                        genres  \n",
       "0  Adventure|Animation|Children|Comedy|Fantasy  \n",
       "1                   Adventure|Children|Fantasy  \n",
       "2                               Comedy|Romance  \n",
       "3                         Comedy|Drama|Romance  \n",
       "4                                       Comedy  "
      ]
     },
     "execution_count": 68,
     "metadata": {},
     "output_type": "execute_result"
    }
   ],
   "source": [
    "movies.head()"
   ]
  },
  {
   "cell_type": "code",
   "execution_count": 70,
   "metadata": {},
   "outputs": [
    {
     "name": "stdout",
     "output_type": "stream",
     "text": [
      "<class 'pandas.core.frame.DataFrame'>\n",
      "RangeIndex: 9742 entries, 0 to 9741\n",
      "Data columns (total 3 columns):\n",
      " #   Column   Non-Null Count  Dtype \n",
      "---  ------   --------------  ----- \n",
      " 0   movieId  9742 non-null   int64 \n",
      " 1   title    9742 non-null   object\n",
      " 2   genres   9742 non-null   object\n",
      "dtypes: int64(1), object(2)\n",
      "memory usage: 228.5+ KB\n"
     ]
    }
   ],
   "source": [
    "movies.info()"
   ]
  },
  {
   "cell_type": "markdown",
   "metadata": {},
   "source": [
    "##### No Missing Data: All columns have 9,742 non-null values."
   ]
  },
  {
   "cell_type": "code",
   "execution_count": 71,
   "metadata": {},
   "outputs": [
    {
     "name": "stdout",
     "output_type": "stream",
     "text": [
      "<class 'pandas.core.frame.DataFrame'>\n",
      "RangeIndex: 100836 entries, 0 to 100835\n",
      "Data columns (total 4 columns):\n",
      " #   Column     Non-Null Count   Dtype  \n",
      "---  ------     --------------   -----  \n",
      " 0   userId     100836 non-null  float64\n",
      " 1   movieId    100836 non-null  float64\n",
      " 2   rating     100836 non-null  float64\n",
      " 3   timestamp  100836 non-null  int64  \n",
      "dtypes: float64(3), int64(1)\n",
      "memory usage: 3.1 MB\n"
     ]
    }
   ],
   "source": [
    "ratings.info()"
   ]
  },
  {
   "cell_type": "markdown",
   "metadata": {},
   "source": [
    "#### No Missing Data: All columns have 100836 non-null values."
   ]
  },
  {
   "cell_type": "markdown",
   "metadata": {},
   "source": [
    "5. Data preprocessing"
   ]
  },
  {
   "cell_type": "code",
   "execution_count": 54,
   "metadata": {},
   "outputs": [],
   "source": [
    "#Handle Missing Values Using Pipeline\n",
    "pipe = Pipeline([\n",
    "    (\"imputer\", SimpleImputer(strategy=\"most_frequent\"))\n",
    "])\n",
    "ratings[['userId', 'movieId', 'rating']] = pipe.fit_transform(ratings[['userId', 'movieId', 'rating']])"
   ]
  },
  {
   "cell_type": "code",
   "execution_count": 55,
   "metadata": {},
   "outputs": [
    {
     "data": {
      "text/plain": [
       "0.5"
      ]
     },
     "execution_count": 55,
     "metadata": {},
     "output_type": "execute_result"
    }
   ],
   "source": [
    "ratings['rating'].min()"
   ]
  },
  {
   "cell_type": "markdown",
   "metadata": {},
   "source": [
    "The minimum rating score is 0.5"
   ]
  },
  {
   "cell_type": "code",
   "execution_count": 56,
   "metadata": {},
   "outputs": [
    {
     "data": {
      "text/plain": [
       "5.0"
      ]
     },
     "execution_count": 56,
     "metadata": {},
     "output_type": "execute_result"
    }
   ],
   "source": [
    "ratings['rating'].max()"
   ]
  },
  {
   "cell_type": "markdown",
   "metadata": {},
   "source": [
    "The maximum rating score is 5.0"
   ]
  },
  {
   "cell_type": "markdown",
   "metadata": {},
   "source": [
    "Data Formatting"
   ]
  },
  {
   "cell_type": "code",
   "execution_count": 57,
   "metadata": {},
   "outputs": [],
   "source": [
    "\n",
    "#Convert Data for Surprise\n",
    "reader = Reader(rating_scale=(0.5, 5))\n",
    "data = Dataset.load_from_df(ratings[['userId', 'movieId', 'rating']], reader)"
   ]
  },
  {
   "cell_type": "markdown",
   "metadata": {},
   "source": [
    "This code converts the ratings dataset into a format compatible with the Surprise library"
   ]
  },
  {
   "cell_type": "markdown",
   "metadata": {},
   "source": [
    "6. Split Data\n",
    "\n",
    "Split the dataset into train-test sets for model training"
   ]
  },
  {
   "cell_type": "code",
   "execution_count": 58,
   "metadata": {},
   "outputs": [],
   "source": [
    "#Train-Test Split\n",
    "trainset, testset = train_test_split(data, test_size=0.2, random_state=42)"
   ]
  },
  {
   "cell_type": "markdown",
   "metadata": {},
   "source": [
    "Splitted the dataset into training and testing sets.\n",
    "\n",
    "- test_size=0.2 → 20% of the dataset is held out for testing, while 80% is used for training.\n",
    "- random_state=42 → Ensures reproducibility so the split remains the same each time the code runs."
   ]
  },
  {
   "cell_type": "markdown",
   "metadata": {},
   "source": [
    "7. Modelling and hyperparameter Tuning with Gridsearch"
   ]
  },
  {
   "cell_type": "markdown",
   "metadata": {},
   "source": [
    "This section defines multiple models and sets up hyperparameter tuning using GridSearchCV to find the best performing model."
   ]
  },
  {
   "cell_type": "code",
   "execution_count": 59,
   "metadata": {},
   "outputs": [],
   "source": [
    "#Define Models & Hyperparameter Tuning with GridSearchCV\n",
    "models = {\n",
    "    'KNNBasic_Item': KNNBasic(sim_options={'name': 'cosine', 'user_based': False}),\n",
    "    'KNNBasic_User': KNNBasic(sim_options={'name': 'cosine', 'user_based': True}),\n",
    "    'SVD': SVD(),\n",
    "}\n"
   ]
  },
  {
   "cell_type": "markdown",
   "metadata": {},
   "source": [
    "Defines three recommendation models:\n",
    "\n",
    "- KNNBasic_Item → Item-based collaborative filtering (compares movies)\n",
    "- KNNBasic_User → User-based collaborative filtering (compares users)\n",
    "- SVD → Matrix factorization technique (Singular Value Decomposition)"
   ]
  },
  {
   "cell_type": "code",
   "execution_count": 60,
   "metadata": {},
   "outputs": [],
   "source": [
    "param_grid = {\n",
    "    'SVD': {'n_factors': [50, 100], 'reg_all': [0.02, 0.1]},\n",
    "    'KNNBasic_Item': {'k': [20, 40], 'min_k': [3, 5]},\n",
    "    'KNNBasic_User': {'k': [20, 40], 'min_k': [3, 5]}\n",
    "}\n",
    "\n",
    "best_scores = {}\n",
    "best_params = {}"
   ]
  },
  {
   "cell_type": "markdown",
   "metadata": {},
   "source": [
    "Specifies hyperparameter values to be tested during tuning:\n",
    "SVD parameters:\n",
    "- n_factors: Number of latent factors (50, 100)\n",
    "- reg_all: Regularization strength (0.02, 0.1)\n",
    "\n",
    "KNNBasic_Item & KNNBasic_User parameters:\n",
    "- k: Number of neighbors (20, 40)\n",
    "- min_k: Minimum neighbors required for a prediction (3, 5)\n",
    "\n",
    "Stores results of the best performing models:\n",
    "\n",
    "- best_scores :Stores the best RMSE score for each model.\n",
    "- best_params : Stores the best hyperparameters found for each model."
   ]
  },
  {
   "cell_type": "code",
   "execution_count": 79,
   "metadata": {},
   "outputs": [
    {
     "data": {
      "text/plain": [
       "{'KNNBasic_Item': 0.9351588161481544,\n",
       " 'KNNBasic_User': 0.9344617176942439,\n",
       " 'SVD': 0.870876506768887}"
      ]
     },
     "execution_count": 79,
     "metadata": {},
     "output_type": "execute_result"
    }
   ],
   "source": [
    "best_scores"
   ]
  },
  {
   "cell_type": "markdown",
   "metadata": {},
   "source": [
    "Lower RMSE (Root Mean Squared Error) is better because it indicates more accurate predictions.\n",
    "\n",
    "In this case, \n",
    "- SVD (0.8708) performs better than:\n",
    "- KNNBasic_User (0.9344)\n",
    "- KNNBasic_Item (0.9351)"
   ]
  },
  {
   "cell_type": "code",
   "execution_count": 75,
   "metadata": {},
   "outputs": [
    {
     "data": {
      "text/plain": [
       "{'KNNBasic_Item': {'k': 20, 'min_k': 3},\n",
       " 'KNNBasic_User': {'k': 20, 'min_k': 3},\n",
       " 'SVD': {'n_factors': 100, 'reg_all': 0.1}}"
      ]
     },
     "execution_count": 75,
     "metadata": {},
     "output_type": "execute_result"
    }
   ],
   "source": [
    "best_params"
   ]
  },
  {
   "cell_type": "markdown",
   "metadata": {},
   "source": [
    "KNNBasic_Item (Item-Based Collaborative Filtering)\n",
    "\n",
    "- k = 20 → Uses 20 nearest neighbors for predictions.\n",
    "- min_k = 3 → Requires at least 3 neighbors for a valid recommendation.\n",
    "\n",
    "KNNBasic_User (User-Based Collaborative Filtering)\n",
    "\n",
    "- k = 20 → Uses 20 nearest users to make predictions.\n",
    "- min_k = 3 → Requires at least 3 similar users for a valid recommendation.\n",
    "\n",
    "SVD (Singular Value Decomposition)\n",
    "\n",
    "- n_factors = 100 → Uses 100 latent factors to represent user-item interactions.\n",
    "- reg_all = 0.1 → Applies regularization strength to prevent overfitting."
   ]
  },
  {
   "cell_type": "markdown",
   "metadata": {},
   "source": [
    "8. Training and Evaluation"
   ]
  },
  {
   "cell_type": "code",
   "execution_count": null,
   "metadata": {},
   "outputs": [
    {
     "name": "stdout",
     "output_type": "stream",
     "text": [
      "🔍 Tuning Hyperparameters for KNNBasic_Item...\n",
      "Computing the msd similarity matrix...\n",
      "Done computing similarity matrix.\n",
      "Computing the msd similarity matrix...\n",
      "Done computing similarity matrix.\n",
      "Computing the msd similarity matrix...\n",
      "Done computing similarity matrix.\n",
      "Computing the msd similarity matrix...\n",
      "Done computing similarity matrix.\n",
      "Computing the msd similarity matrix...\n",
      "Done computing similarity matrix.\n",
      "Computing the msd similarity matrix...\n",
      "Done computing similarity matrix.\n",
      "Computing the msd similarity matrix...\n",
      "Done computing similarity matrix.\n",
      "Computing the msd similarity matrix...\n",
      "Done computing similarity matrix.\n",
      "Computing the msd similarity matrix...\n",
      "Done computing similarity matrix.\n",
      "Computing the msd similarity matrix...\n",
      "Done computing similarity matrix.\n",
      "Computing the msd similarity matrix...\n",
      "Done computing similarity matrix.\n",
      "Computing the msd similarity matrix...\n",
      "Done computing similarity matrix.\n",
      "Computing the msd similarity matrix...\n",
      "Done computing similarity matrix.\n",
      "Computing the msd similarity matrix...\n",
      "Done computing similarity matrix.\n",
      "Computing the msd similarity matrix...\n",
      "Done computing similarity matrix.\n",
      "Computing the msd similarity matrix...\n",
      "Done computing similarity matrix.\n",
      "Computing the msd similarity matrix...\n",
      "Done computing similarity matrix.\n",
      "Computing the msd similarity matrix...\n",
      "Done computing similarity matrix.\n",
      "Computing the msd similarity matrix...\n",
      "Done computing similarity matrix.\n",
      "Computing the msd similarity matrix...\n",
      "Done computing similarity matrix.\n",
      "🔍 Tuning Hyperparameters for KNNBasic_User...\n",
      "Computing the msd similarity matrix...\n",
      "Done computing similarity matrix.\n",
      "Computing the msd similarity matrix...\n",
      "Done computing similarity matrix.\n",
      "Computing the msd similarity matrix...\n",
      "Done computing similarity matrix.\n",
      "Computing the msd similarity matrix...\n",
      "Done computing similarity matrix.\n",
      "Computing the msd similarity matrix...\n",
      "Done computing similarity matrix.\n",
      "Computing the msd similarity matrix...\n",
      "Done computing similarity matrix.\n",
      "Computing the msd similarity matrix...\n",
      "Done computing similarity matrix.\n",
      "Computing the msd similarity matrix...\n",
      "Done computing similarity matrix.\n",
      "Computing the msd similarity matrix...\n",
      "Done computing similarity matrix.\n",
      "Computing the msd similarity matrix...\n",
      "Done computing similarity matrix.\n",
      "Computing the msd similarity matrix...\n",
      "Done computing similarity matrix.\n",
      "Computing the msd similarity matrix...\n",
      "Done computing similarity matrix.\n",
      "Computing the msd similarity matrix...\n",
      "Done computing similarity matrix.\n",
      "Computing the msd similarity matrix...\n",
      "Done computing similarity matrix.\n",
      "Computing the msd similarity matrix...\n",
      "Done computing similarity matrix.\n",
      "Computing the msd similarity matrix...\n",
      "Done computing similarity matrix.\n",
      "Computing the msd similarity matrix...\n",
      "Done computing similarity matrix.\n",
      "Computing the msd similarity matrix...\n",
      "Done computing similarity matrix.\n",
      "Computing the msd similarity matrix...\n",
      "Done computing similarity matrix.\n",
      "Computing the msd similarity matrix...\n",
      "Done computing similarity matrix.\n",
      "🔍 Tuning Hyperparameters for SVD...\n"
     ]
    }
   ],
   "source": [
    "# Train & Evaluate Each Model\n",
    "for model_name, model in models.items():\n",
    "    print(f\"🔍 Tuning Hyperparameters for {model_name}...\")\n",
    "\n",
    " # Perform Grid Search\n",
    "    grid_search = GridSearchCV(algo_class=model.__class__, param_grid=param_grid[model_name], measures=['rmse'], cv=5)\n",
    "    grid_search.fit(data)\n",
    "    \n",
    "    # Store Best RMSE Score\n",
    "    best_scores[model_name] = grid_search.best_score['rmse']\n",
    "\n",
    "    # Store Best Hyperparameters\n",
    "    best_params[model_name] = grid_search.best_params "
   ]
  },
  {
   "cell_type": "markdown",
   "metadata": {},
   "source": [
    "iterates over multiple models (SVD, KNNBasic_User, KNNBasic_Item), performs hyperparameter tuning using GridSearchCV, and stores the best RMSE score and hyperparameters for each model."
   ]
  },
  {
   "cell_type": "code",
   "execution_count": 62,
   "metadata": {},
   "outputs": [],
   "source": [
    "#select the best model\n",
    "best_model_name = min(best_scores, key=best_scores.get)\n",
    "best_model_params = best_params[best_model_name]"
   ]
  },
  {
   "cell_type": "markdown",
   "metadata": {},
   "source": [
    "Finds the model name with the lowest RMSE score (best performance).\n",
    " \n",
    "Uses min() to get the model with the smallest RMSE from best_score.\n",
    "\n",
    "Retrieves the best hyperparameters for the selected model.\n",
    "\n",
    "Uses best_model_name as a key to access best_params."
   ]
  },
  {
   "cell_type": "code",
   "execution_count": 73,
   "metadata": {},
   "outputs": [
    {
     "data": {
      "text/plain": [
       "'SVD'"
      ]
     },
     "execution_count": 73,
     "metadata": {},
     "output_type": "execute_result"
    }
   ],
   "source": [
    "best_model_name"
   ]
  },
  {
   "cell_type": "code",
   "execution_count": 72,
   "metadata": {},
   "outputs": [
    {
     "data": {
      "text/plain": [
       "{'n_factors': 100, 'reg_all': 0.1}"
      ]
     },
     "execution_count": 72,
     "metadata": {},
     "output_type": "execute_result"
    }
   ],
   "source": [
    "best_model_params"
   ]
  },
  {
   "cell_type": "code",
   "execution_count": 63,
   "metadata": {},
   "outputs": [
    {
     "data": {
      "text/plain": [
       "<surprise.prediction_algorithms.matrix_factorization.SVD at 0x1f5a69f7910>"
      ]
     },
     "execution_count": 63,
     "metadata": {},
     "output_type": "execute_result"
    }
   ],
   "source": [
    "#Initialize the Best Model with Tuned Parameters & Train\n",
    "if best_model_name == \"SVD\":\n",
    "    best_model = SVD(**best_model_params)\n",
    "elif best_model_name == \"KNNBasic_Item\":\n",
    "    best_model = KNNBasic(sim_options={'name': 'cosine', 'user_based': False}, **best_model_params)\n",
    "elif best_model_name == \"KNNBasic_User\":\n",
    "    best_model = KNNBasic(sim_options={'name': 'cosine', 'user_based': True}, **best_model_params)\n",
    "\n",
    "best_model.fit(trainset)"
   ]
  },
  {
   "cell_type": "markdown",
   "metadata": {},
   "source": [
    "Chooses the model with the lowest RMSE (best_model_name).\n",
    "\n",
    "Applies the best hyperparameters (best_model_params).\n",
    "\n",
    "Ensures correct model initialization for SVD, KNNBasic_Item, and KNNBasic_User.\n",
    "\n",
    "Fits the selected model (best_model) on the trainset data."
   ]
  },
  {
   "cell_type": "code",
   "execution_count": 64,
   "metadata": {},
   "outputs": [
    {
     "name": "stdout",
     "output_type": "stream",
     "text": [
      "RMSE: 0.8775\n",
      " Best Model: SVD with RMSE: 0.8775\n"
     ]
    }
   ],
   "source": [
    "#Evaluate Model\n",
    "predictions = best_model.test(testset)\n",
    "rmse = accuracy.rmse(predictions)\n",
    "print(f\" Best Model: {best_model_name} with RMSE: {rmse:.4f}\")"
   ]
  },
  {
   "cell_type": "markdown",
   "metadata": {},
   "source": [
    "Uses the trained model (best_model) to predict ratings for the test set (testset).\n",
    "\n",
    "SVD was the best model based on hyperparameter tuning."
   ]
  },
  {
   "cell_type": "code",
   "execution_count": null,
   "metadata": {},
   "outputs": [],
   "source": [
    "from sklearn.metrics import classification_report\n",
    "\n",
    "# Define a function to classify ratings as Liked (1) or Disliked (0)\n",
    "def classify_rating(rating, threshold=3.5):\n",
    "    return 1 if rating >= threshold else 0  # 1 = Liked, 0 = Disliked\n",
    "\n",
    "# Define a dictionary to store classification reports for all models\n",
    "model_reports = {}"
   ]
  },
  {
   "cell_type": "code",
   "execution_count": 90,
   "metadata": {},
   "outputs": [
    {
     "name": "stdout",
     "output_type": "stream",
     "text": [
      "⚠️ No valid ratings available for classification.\n"
     ]
    }
   ],
   "source": [
    "# Convert Ratings to Binary Labels, filtering out None values\n",
    "true_labels = [classify_rating(pred.r_ui) for pred in predictions if pred.r_ui is not None]\n",
    "predicted_labels = [classify_rating(pred.est) for pred in predictions if pred.r_ui is not None]\n",
    "\n",
    "# Ensure lists have valid values before computing metrics\n",
    "if len(true_labels) > 0 and len(predicted_labels) > 0:\n",
    "    from sklearn.metrics import classification_report\n",
    "\n",
    "    print(\"\\n📊 Classification Report:\")\n",
    "    print(classification_report(true_labels, predicted_labels))\n",
    "else:\n",
    "    print(\"⚠️ No valid ratings available for classification.\")\n"
   ]
  },
  {
   "cell_type": "code",
   "execution_count": 86,
   "metadata": {},
   "outputs": [],
   "source": [
    "#Generate Top 5 Recommendations for a User\n",
    "user_id = 100\n",
    "movie_ids = ratings['movieId'].unique()\n",
    "user_rated_movies = ratings[ratings['userId'] == user_id]['movieId'].values\n",
    "movies_to_predict = [m for m in movie_ids if m not in user_rated_movies]\n",
    "\n",
    "predictions = [best_model.predict(user_id, m) for m in movies_to_predict]\n",
    "top_n = sorted(predictions, key=lambda x: x.est, reverse=True)[:5]"
   ]
  },
  {
   "cell_type": "markdown",
   "metadata": {},
   "source": [
    "predicts and ranks the top 5 movie recommendations for a given user (user_id) using the trained model\n",
    "\n",
    "Extracts a list of all unique movies in the dataset\n",
    "\n",
    "Filters the ratings DataFrame to get all movies the user has rated\n",
    "\n",
    "Finds movies that the user has not yet rated.\n",
    "\n",
    "Uses the trained model (best_model) to predict ratings for the unseen movies.\n",
    "\n",
    "Sorts the predictions by predicted rating in descending order."
   ]
  },
  {
   "cell_type": "code",
   "execution_count": 87,
   "metadata": {},
   "outputs": [
    {
     "data": {
      "text/plain": [
       "[Prediction(uid=100, iid=1204.0, r_ui=None, est=4.636374021639172, details={'was_impossible': False}),\n",
       " Prediction(uid=100, iid=1172.0, r_ui=None, est=4.5424362256548365, details={'was_impossible': False}),\n",
       " Prediction(uid=100, iid=318.0, r_ui=None, est=4.52796265060145, details={'was_impossible': False}),\n",
       " Prediction(uid=100, iid=904.0, r_ui=None, est=4.51224304273186, details={'was_impossible': False}),\n",
       " Prediction(uid=100, iid=1276.0, r_ui=None, est=4.505852232571778, details={'was_impossible': False})]"
      ]
     },
     "execution_count": 87,
     "metadata": {},
     "output_type": "execute_result"
    }
   ],
   "source": [
    "top_n"
   ]
  },
  {
   "cell_type": "markdown",
   "metadata": {},
   "source": [
    "is a list of Prediction which contains the top 5 recommended movies for user_id = 100."
   ]
  },
  {
   "cell_type": "code",
   "execution_count": 84,
   "metadata": {},
   "outputs": [
    {
     "name": "stdout",
     "output_type": "stream",
     "text": [
      " Top 5 Movie Recommendations for User 1:\n",
      "Lawrence of Arabia (1962) (Predicted Rating: 4.98)\n",
      "Shawshank Redemption, The (1994) (Predicted Rating: 4.98)\n",
      "Cinema Paradiso (Nuovo cinema Paradiso) (1989) (Predicted Rating: 4.95)\n",
      "Rear Window (1954) (Predicted Rating: 4.93)\n",
      "Philadelphia Story, The (1940) (Predicted Rating: 4.92)\n"
     ]
    }
   ],
   "source": [
    "#Display Recommendations\n",
    "print(f\" Top 5 Movie Recommendations for User {user_id}:\")\n",
    "titles, scores = [], []\n",
    "for pred in top_n:\n",
    "    title = movies[movies['movieId'] == pred.iid]['title'].values[0]\n",
    "    print(f\"{title} (Predicted Rating: {pred.est:.2f})\")\n",
    "    titles.append(title)\n",
    "    scores.append(pred.est)"
   ]
  },
  {
   "cell_type": "markdown",
   "metadata": {},
   "source": [
    "Retrieved and printed the actual movie titles for the top 5 recommendations."
   ]
  },
  {
   "cell_type": "markdown",
   "metadata": {},
   "source": []
  }
 ],
 "metadata": {
  "kernelspec": {
   "display_name": "Python (learn-env)",
   "language": "python",
   "name": "learn-env"
  },
  "language_info": {
   "codemirror_mode": {
    "name": "ipython",
    "version": 3
   },
   "file_extension": ".py",
   "mimetype": "text/x-python",
   "name": "python",
   "nbconvert_exporter": "python",
   "pygments_lexer": "ipython3",
   "version": "3.8.5"
  }
 },
 "nbformat": 4,
 "nbformat_minor": 2
}
