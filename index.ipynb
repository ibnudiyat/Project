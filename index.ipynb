{
 "cells": [
  {
   "cell_type": "code",
   "execution_count": 52,
   "metadata": {},
   "outputs": [],
   "source": [
    "#Load the libraries\n",
    "import pandas as pd\n",
    "import matplotlib.pyplot as plt\n",
    "from surprise import Dataset, Reader, SVD, KNNBasic, accuracy\n",
    "from surprise.model_selection import train_test_split, GridSearchCV\n",
    "from sklearn.impute import SimpleImputer\n",
    "from sklearn.pipeline import Pipeline"
   ]
  },
  {
   "cell_type": "code",
   "execution_count": 53,
   "metadata": {},
   "outputs": [],
   "source": [
    "#Load Data\n",
    "movies = pd.read_csv('movies.csv')\n",
    "ratings = pd.read_csv('ratings.csv')"
   ]
  },
  {
   "cell_type": "code",
   "execution_count": 54,
   "metadata": {},
   "outputs": [],
   "source": [
    "#Handle Missing Values Using Pipeline\n",
    "pipe = Pipeline([\n",
    "    (\"imputer\", SimpleImputer(strategy=\"most_frequent\"))\n",
    "])\n",
    "ratings[['userId', 'movieId', 'rating']] = pipe.fit_transform(ratings[['userId', 'movieId', 'rating']])"
   ]
  },
  {
   "cell_type": "code",
   "execution_count": 55,
   "metadata": {},
   "outputs": [
    {
     "data": {
      "text/plain": [
       "0.5"
      ]
     },
     "execution_count": 55,
     "metadata": {},
     "output_type": "execute_result"
    }
   ],
   "source": [
    "ratings['rating'].min()"
   ]
  },
  {
   "cell_type": "code",
   "execution_count": 56,
   "metadata": {},
   "outputs": [
    {
     "data": {
      "text/plain": [
       "5.0"
      ]
     },
     "execution_count": 56,
     "metadata": {},
     "output_type": "execute_result"
    }
   ],
   "source": [
    "ratings['rating'].max()"
   ]
  },
  {
   "cell_type": "code",
   "execution_count": 57,
   "metadata": {},
   "outputs": [],
   "source": [
    "\n",
    "#Convert Data for Surprise\n",
    "reader = Reader(rating_scale=(0.5, 5))\n",
    "data = Dataset.load_from_df(ratings[['userId', 'movieId', 'rating']], reader)"
   ]
  },
  {
   "cell_type": "code",
   "execution_count": 58,
   "metadata": {},
   "outputs": [],
   "source": [
    "#Train-Test Split\n",
    "trainset, testset = train_test_split(data, test_size=0.2, random_state=42)"
   ]
  },
  {
   "cell_type": "code",
   "execution_count": 59,
   "metadata": {},
   "outputs": [],
   "source": [
    "#Define Models & Hyperparameter Tuning with GridSearchCV\n",
    "models = {\n",
    "    'KNNBasic_Item': KNNBasic(sim_options={'name': 'cosine', 'user_based': False}),\n",
    "    'KNNBasic_User': KNNBasic(sim_options={'name': 'cosine', 'user_based': True}),\n",
    "    'SVD': SVD(),\n",
    "}\n"
   ]
  },
  {
   "cell_type": "code",
   "execution_count": 60,
   "metadata": {},
   "outputs": [],
   "source": [
    "param_grid = {\n",
    "    'SVD': {'n_factors': [50, 100], 'reg_all': [0.02, 0.1]},\n",
    "    'KNNBasic_Item': {'k': [20, 40], 'min_k': [3, 5]},\n",
    "    'KNNBasic_User': {'k': [20, 40], 'min_k': [3, 5]}\n",
    "}\n",
    "\n",
    "best_scores = {}\n",
    "best_params = {}"
   ]
  },
  {
   "cell_type": "code",
   "execution_count": 61,
   "metadata": {},
   "outputs": [
    {
     "name": "stdout",
     "output_type": "stream",
     "text": [
      "🔍 Tuning Hyperparameters for KNNBasic_Item...\n",
      "Computing the msd similarity matrix...\n",
      "Done computing similarity matrix.\n",
      "Computing the msd similarity matrix...\n",
      "Done computing similarity matrix.\n",
      "Computing the msd similarity matrix...\n",
      "Done computing similarity matrix.\n",
      "Computing the msd similarity matrix...\n",
      "Done computing similarity matrix.\n",
      "Computing the msd similarity matrix...\n",
      "Done computing similarity matrix.\n",
      "Computing the msd similarity matrix...\n",
      "Done computing similarity matrix.\n",
      "Computing the msd similarity matrix...\n",
      "Done computing similarity matrix.\n",
      "Computing the msd similarity matrix...\n",
      "Done computing similarity matrix.\n",
      "Computing the msd similarity matrix...\n",
      "Done computing similarity matrix.\n",
      "Computing the msd similarity matrix...\n",
      "Done computing similarity matrix.\n",
      "Computing the msd similarity matrix...\n",
      "Done computing similarity matrix.\n",
      "Computing the msd similarity matrix...\n",
      "Done computing similarity matrix.\n",
      "Computing the msd similarity matrix...\n",
      "Done computing similarity matrix.\n",
      "Computing the msd similarity matrix...\n",
      "Done computing similarity matrix.\n",
      "Computing the msd similarity matrix...\n",
      "Done computing similarity matrix.\n",
      "Computing the msd similarity matrix...\n",
      "Done computing similarity matrix.\n",
      "Computing the msd similarity matrix...\n",
      "Done computing similarity matrix.\n",
      "Computing the msd similarity matrix...\n",
      "Done computing similarity matrix.\n",
      "Computing the msd similarity matrix...\n",
      "Done computing similarity matrix.\n",
      "Computing the msd similarity matrix...\n",
      "Done computing similarity matrix.\n",
      "🔍 Tuning Hyperparameters for KNNBasic_User...\n",
      "Computing the msd similarity matrix...\n",
      "Done computing similarity matrix.\n",
      "Computing the msd similarity matrix...\n",
      "Done computing similarity matrix.\n",
      "Computing the msd similarity matrix...\n",
      "Done computing similarity matrix.\n",
      "Computing the msd similarity matrix...\n",
      "Done computing similarity matrix.\n",
      "Computing the msd similarity matrix...\n",
      "Done computing similarity matrix.\n",
      "Computing the msd similarity matrix...\n",
      "Done computing similarity matrix.\n",
      "Computing the msd similarity matrix...\n",
      "Done computing similarity matrix.\n",
      "Computing the msd similarity matrix...\n",
      "Done computing similarity matrix.\n",
      "Computing the msd similarity matrix...\n",
      "Done computing similarity matrix.\n",
      "Computing the msd similarity matrix...\n",
      "Done computing similarity matrix.\n",
      "Computing the msd similarity matrix...\n",
      "Done computing similarity matrix.\n",
      "Computing the msd similarity matrix...\n",
      "Done computing similarity matrix.\n",
      "Computing the msd similarity matrix...\n",
      "Done computing similarity matrix.\n",
      "Computing the msd similarity matrix...\n",
      "Done computing similarity matrix.\n",
      "Computing the msd similarity matrix...\n",
      "Done computing similarity matrix.\n",
      "Computing the msd similarity matrix...\n",
      "Done computing similarity matrix.\n",
      "Computing the msd similarity matrix...\n",
      "Done computing similarity matrix.\n",
      "Computing the msd similarity matrix...\n",
      "Done computing similarity matrix.\n",
      "Computing the msd similarity matrix...\n",
      "Done computing similarity matrix.\n",
      "Computing the msd similarity matrix...\n",
      "Done computing similarity matrix.\n",
      "🔍 Tuning Hyperparameters for SVD...\n"
     ]
    }
   ],
   "source": [
    "# Step 6: Train & Evaluate Each Model\n",
    "for model_name, model in models.items():\n",
    "    print(f\"🔍 Tuning Hyperparameters for {model_name}...\")\n",
    "    grid_search = GridSearchCV(algo_class=type(model), param_grid=param_grid[model_name], measures=['rmse'], cv=5)\n",
    "    grid_search.fit(data)\n",
    "    \n",
    "    best_scores[model_name] = grid_search.best_score['rmse']\n",
    "    best_params[model_name] = grid_search.best_params['rmse']"
   ]
  },
  {
   "cell_type": "code",
   "execution_count": 62,
   "metadata": {},
   "outputs": [],
   "source": [
    "#select the best model\n",
    "best_model_name = min(best_scores, key=best_scores.get)\n",
    "best_model_params = best_params[best_model_name]"
   ]
  },
  {
   "cell_type": "code",
   "execution_count": 63,
   "metadata": {},
   "outputs": [
    {
     "data": {
      "text/plain": [
       "<surprise.prediction_algorithms.matrix_factorization.SVD at 0x1f5a69f7910>"
      ]
     },
     "execution_count": 63,
     "metadata": {},
     "output_type": "execute_result"
    }
   ],
   "source": [
    "#Initialize the Best Model with Tuned Parameters & Train\n",
    "if best_model_name == \"SVD\":\n",
    "    best_model = SVD(**best_model_params)\n",
    "elif best_model_name == \"KNNBasic_Item\":\n",
    "    best_model = KNNBasic(sim_options={'name': 'cosine', 'user_based': False}, **best_model_params)\n",
    "elif best_model_name == \"KNNBasic_User\":\n",
    "    best_model = KNNBasic(sim_options={'name': 'cosine', 'user_based': True}, **best_model_params)\n",
    "\n",
    "best_model.fit(trainset)"
   ]
  },
  {
   "cell_type": "code",
   "execution_count": 64,
   "metadata": {},
   "outputs": [
    {
     "name": "stdout",
     "output_type": "stream",
     "text": [
      "RMSE: 0.8775\n",
      " Best Model: SVD with RMSE: 0.8775\n"
     ]
    }
   ],
   "source": [
    "#Evaluate Model\n",
    "predictions = best_model.test(testset)\n",
    "rmse = accuracy.rmse(predictions)\n",
    "print(f\" Best Model: {best_model_name} with RMSE: {rmse:.4f}\")"
   ]
  },
  {
   "cell_type": "code",
   "execution_count": 65,
   "metadata": {},
   "outputs": [],
   "source": [
    "#Generate Top 5 Recommendations for a User\n",
    "user_id = 1\n",
    "movie_ids = ratings['movieId'].unique()\n",
    "user_rated_movies = ratings[ratings['userId'] == user_id]['movieId'].values\n",
    "movies_to_predict = [m for m in movie_ids if m not in user_rated_movies]\n",
    "\n",
    "predictions = [best_model.predict(user_id, m) for m in movies_to_predict]\n",
    "top_n = sorted(predictions, key=lambda x: x.est, reverse=True)[:5]"
   ]
  },
  {
   "cell_type": "code",
   "execution_count": 66,
   "metadata": {},
   "outputs": [
    {
     "name": "stdout",
     "output_type": "stream",
     "text": [
      "\n",
      "🎬 Top 5 Movie Recommendations for User 1:\n",
      "Lawrence of Arabia (1962) (Predicted Rating: 4.98)\n",
      "Shawshank Redemption, The (1994) (Predicted Rating: 4.98)\n",
      "Cinema Paradiso (Nuovo cinema Paradiso) (1989) (Predicted Rating: 4.95)\n",
      "Rear Window (1954) (Predicted Rating: 4.93)\n",
      "Philadelphia Story, The (1940) (Predicted Rating: 4.92)\n"
     ]
    }
   ],
   "source": [
    "#Display Recommendations\n",
    "print(f\"\\n🎬 Top 5 Movie Recommendations for User {user_id}:\")\n",
    "titles, scores = [], []\n",
    "for pred in top_n:\n",
    "    title = movies[movies['movieId'] == pred.iid]['title'].values[0]\n",
    "    print(f\"{title} (Predicted Rating: {pred.est:.2f})\")\n",
    "    titles.append(title)\n",
    "    scores.append(pred.est)"
   ]
  },
  {
   "cell_type": "code",
   "execution_count": 67,
   "metadata": {},
   "outputs": [
    {
     "data": {
      "image/png": "[encoded data removed]",
      "text/plain": [
       "<Figure size 576x360 with 1 Axes>"
      ]
     },
     "metadata": {
      "needs_background": "light"
     },
     "output_type": "display_data"
    }
   ],
   "source": [
    "#Visualization\n",
    "plt.figure(figsize=(8,5))\n",
    "plt.barh(titles[::-1], scores[::-1], color='blue')\n",
    "plt.xlabel('Predicted Rating')\n",
    "plt.title(f\"Top 5 Recommendations for User {user_id}\")\n",
    "plt.show()"
   ]
  }
 ],
 "metadata": {
  "kernelspec": {
   "display_name": "Python (learn-env)",
   "language": "python",
   "name": "learn-env"
  },
  "language_info": {
   "codemirror_mode": {
    "name": "ipython",
    "version": 3
   },
   "file_extension": ".py",
   "mimetype": "text/x-python",
   "name": "python",
   "nbconvert_exporter": "python",
   "pygments_lexer": "ipython3",
   "version": "3.8.5"
  }
 },
 "nbformat": 4,
 "nbformat_minor": 2
}
